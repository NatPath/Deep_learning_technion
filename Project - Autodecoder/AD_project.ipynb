{
 "cells": [
  {
   "cell_type": "markdown",
   "metadata": {},
   "source": [
    "imports"
   ]
  },
  {
   "cell_type": "code",
   "execution_count": 6,
   "metadata": {},
   "outputs": [],
   "source": [
    "import torch\n",
    "import torch.nn as nn\n",
    "import torch.optim as optim\n",
    "from utils import create_dataloaders\n",
    "from AutoDecoder import AutoDecoder\n",
    "from AutoDecoder import train_auto_decoder "
   ]
  },
  {
   "cell_type": "code",
   "execution_count": 7,
   "metadata": {},
   "outputs": [
    {
     "ename": "AttributeError",
     "evalue": "type object 'AutoDecoder' has no attribute 'train_auto_decoder'",
     "output_type": "error",
     "traceback": [
      "\u001b[0;31m---------------------------------------------------------------------------\u001b[0m",
      "\u001b[0;31mAttributeError\u001b[0m                            Traceback (most recent call last)",
      "Cell \u001b[0;32mIn[7], line 21\u001b[0m\n\u001b[1;32m     18\u001b[0m optimizer \u001b[38;5;241m=\u001b[39m optim\u001b[38;5;241m.\u001b[39mAdam(\u001b[38;5;28mlist\u001b[39m(auto_decoder\u001b[38;5;241m.\u001b[39mparameters()) \u001b[38;5;241m+\u001b[39m [latents], lr\u001b[38;5;241m=\u001b[39m\u001b[38;5;241m1e-3\u001b[39m)\n\u001b[1;32m     20\u001b[0m \u001b[38;5;66;03m# Train the AutoDecoder\u001b[39;00m\n\u001b[0;32m---> 21\u001b[0m \u001b[43mAutoDecoder\u001b[49m\u001b[38;5;241;43m.\u001b[39;49m\u001b[43mtrain_auto_decoder\u001b[49m(auto_decoder, train_dl, optimizer, latents, device, epochs\u001b[38;5;241m=\u001b[39m\u001b[38;5;241m10\u001b[39m)\n",
      "\u001b[0;31mAttributeError\u001b[0m: type object 'AutoDecoder' has no attribute 'train_auto_decoder'"
     ]
    }
   ],
   "source": [
    "# Check device\n",
    "device = torch.device(\"cuda\" if torch.cuda.is_available() else \"cpu\")\n",
    "\n",
    "# Define model parameters\n",
    "latent_dim = 64  # Dimension of latent space\n",
    "output_shape = (1, 28, 28)  # Output shape for Fashion MNIST images\n",
    "\n",
    "# Initialize model\n",
    "auto_decoder = AutoDecoder(latent_dim, output_shape).to(device)\n",
    "\n",
    "# Create data loaders\n",
    "train_ds, train_dl, _, _ = create_dataloaders(data_path=\"dataset\",batch_size=32)\n",
    "\n",
    "# Initialize latent vectors for each training sample\n",
    "latents = torch.randn(len(train_ds), latent_dim, requires_grad=True, device=device)\n",
    "\n",
    "# Initialize optimizer\n",
    "optimizer = optim.Adam(list(auto_decoder.parameters()) + [latents], lr=1e-3)\n",
    "\n",
    "# Train the AutoDecoder\n",
    "AutoDecoder.train_auto_decoder(auto_decoder, train_dl, optimizer, latents, device, epochs=10)"
   ]
  }
 ],
 "metadata": {
  "kernelspec": {
   "display_name": "cs236781-hw",
   "language": "python",
   "name": "python3"
  },
  "language_info": {
   "codemirror_mode": {
    "name": "ipython",
    "version": 3
   },
   "file_extension": ".py",
   "mimetype": "text/x-python",
   "name": "python",
   "nbconvert_exporter": "python",
   "pygments_lexer": "ipython3",
   "version": "3.8.12"
  }
 },
 "nbformat": 4,
 "nbformat_minor": 2
}
