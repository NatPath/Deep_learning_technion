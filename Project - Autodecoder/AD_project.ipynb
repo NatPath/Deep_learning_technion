{
 "cells": [
  {
   "cell_type": "markdown",
   "metadata": {},
   "source": [
    "imports"
   ]
  },
  {
   "cell_type": "code",
   "execution_count": 1,
   "metadata": {},
   "outputs": [],
   "source": [
    "import torch\n",
    "import torch.nn as nn\n",
    "import torch.optim as optim\n",
    "from utils import create_dataloaders\n",
    "from utils import plot_tsne\n",
    "import AutoDecoder as AD"
   ]
  },
  {
   "cell_type": "code",
   "execution_count": 2,
   "metadata": {},
   "outputs": [],
   "source": [
    "import importlib"
   ]
  },
  {
   "cell_type": "code",
   "execution_count": 3,
   "metadata": {},
   "outputs": [
    {
     "data": {
      "text/plain": [
       "<module 'AutoDecoder' from '/home/nativ/Deep_learning_technion/Project - Autodecoder/AutoDecoder.py'>"
      ]
     },
     "execution_count": 3,
     "metadata": {},
     "output_type": "execute_result"
    }
   ],
   "source": [
    "importlib.reload(AD)"
   ]
  },
  {
   "cell_type": "code",
   "execution_count": 4,
   "metadata": {},
   "outputs": [],
   "source": [
    "# Check device\n",
    "device = torch.device(\"cuda\" if torch.cuda.is_available() else \"cpu\")\n",
    "torch.manual_seed(1337)\n",
    "# Define model parameters\n",
    "latent_dim = 128  # Dimension of latent space\n",
    "output_shape = (1, 28, 28)  # Output shape for Fashion MNIST images\n",
    "\n",
    "# Initialize model\n",
    "auto_decoder = AD.AutoDecoder(latent_dim, output_shape).to(device)\n"
   ]
  },
  {
   "cell_type": "code",
   "execution_count": 9,
   "metadata": {},
   "outputs": [],
   "source": [
    "# Create data loaders\n",
    "train_ds, train_dl, test_ds, test_dl = create_dataloaders(data_path=\"dataset\", batch_size=32)"
   ]
  },
  {
   "cell_type": "code",
   "execution_count": 6,
   "metadata": {},
   "outputs": [],
   "source": [
    "# Initialize latent vectors\n",
    "train_latents = torch.randn(len(train_ds), latent_dim, requires_grad=True, device=device)\n",
    "test_latents = torch.randn(len(test_ds), latent_dim, requires_grad=False, device=device)\n"
   ]
  },
  {
   "cell_type": "code",
   "execution_count": null,
   "metadata": {},
   "outputs": [],
   "source": [
    "# Split train_ds into train and validation sets\n",
    "from torch.utils.data import random_split\n",
    "val_size = len(train_ds) // 5  # 20% for validation\n",
    "train_size = len(train_ds) - val_size\n",
    "train_subset, val_subset = random_split(train_ds, [train_size, val_size])\n",
    "\n",
    "train_dl = torch.utils.data.DataLoader(train_subset, batch_size=32, shuffle=True)\n",
    "val_dl = torch.utils.data.DataLoader(val_subset, batch_size=32, shuffle=False)\n",
    "# Initialize latent vectors\n",
    "train_latents = torch.randn(len(train_subset), latent_dim, requires_grad=True, device=device)\n",
    "val_latents = torch.randn(len(val_subset), latent_dim, requires_grad=False, device=device)\n",
    "test_latents = torch.randn(len(test_ds), latent_dim, requires_grad=False, device=device)"
   ]
  },
  {
   "cell_type": "code",
   "execution_count": 7,
   "metadata": {},
   "outputs": [],
   "source": [
    "# Initialize optimizer\n",
    "optimizer = optim.Adam(list(auto_decoder.parameters()) + [train_latents], lr=1e-3)"
   ]
  },
  {
   "cell_type": "code",
   "execution_count": 10,
   "metadata": {},
   "outputs": [
    {
     "name": "stdout",
     "output_type": "stream",
     "text": [
      "Epoch [1/100], Train Loss: 4.0992\n",
      "Epoch [2/100], Train Loss: 4.0028\n",
      "Epoch [3/100], Train Loss: 3.4558\n",
      "Epoch [4/100], Train Loss: 2.7794\n",
      "Epoch [5/100], Train Loss: 2.6862\n",
      "Epoch [6/100], Train Loss: 2.6753\n",
      "Epoch [7/100], Train Loss: 2.6720\n",
      "Epoch [8/100], Train Loss: 2.6700\n",
      "Epoch [9/100], Train Loss: 2.6684\n",
      "Epoch [10/100], Train Loss: 2.6672\n",
      "Epoch [11/100], Train Loss: 2.6661\n",
      "Epoch [12/100], Train Loss: 2.6652\n",
      "Epoch [13/100], Train Loss: 2.6644\n",
      "Epoch [14/100], Train Loss: 2.6636\n",
      "Epoch [15/100], Train Loss: 2.6629\n",
      "Epoch [16/100], Train Loss: 2.6623\n",
      "Epoch [17/100], Train Loss: 2.6617\n",
      "Epoch [18/100], Train Loss: 2.6612\n",
      "Epoch [19/100], Train Loss: 2.6607\n",
      "Epoch [20/100], Train Loss: 2.6602\n",
      "Epoch [21/100], Train Loss: 2.6598\n",
      "Epoch [22/100], Train Loss: 2.6593\n",
      "Epoch [23/100], Train Loss: 2.6589\n",
      "Epoch [24/100], Train Loss: 2.6586\n",
      "Epoch [25/100], Train Loss: 2.6582\n",
      "Epoch [26/100], Train Loss: 2.6579\n",
      "Epoch [27/100], Train Loss: 2.6576\n",
      "Epoch [28/100], Train Loss: 2.6574\n",
      "Epoch [29/100], Train Loss: 2.6571\n",
      "Epoch [30/100], Train Loss: 2.6569\n",
      "Epoch [31/100], Train Loss: 2.6566\n",
      "Epoch [32/100], Train Loss: 2.6564\n",
      "Epoch [33/100], Train Loss: 2.6563\n",
      "Epoch [34/100], Train Loss: 2.6561\n",
      "Epoch [35/100], Train Loss: 2.6559\n",
      "Epoch [36/100], Train Loss: 2.6558\n",
      "Epoch [37/100], Train Loss: 2.6556\n",
      "Epoch [38/100], Train Loss: 2.6555\n",
      "Epoch [39/100], Train Loss: 2.6554\n",
      "Epoch [40/100], Train Loss: 2.6552\n",
      "Epoch [41/100], Train Loss: 2.6551\n",
      "Epoch [42/100], Train Loss: 2.6550\n",
      "Epoch [43/100], Train Loss: 2.6550\n",
      "Epoch [44/100], Train Loss: 2.6549\n",
      "Epoch [45/100], Train Loss: 2.6548\n",
      "Epoch [46/100], Train Loss: 2.6547\n",
      "Epoch [47/100], Train Loss: 2.6547\n",
      "Epoch [48/100], Train Loss: 2.6546\n",
      "Epoch [49/100], Train Loss: 2.6546\n",
      "Epoch [50/100], Train Loss: 2.6545\n",
      "Epoch [51/100], Train Loss: 2.6545\n",
      "Epoch [52/100], Train Loss: 2.6544\n",
      "Epoch [53/100], Train Loss: 2.6544\n",
      "Epoch [54/100], Train Loss: 2.6544\n",
      "Epoch [55/100], Train Loss: 2.6543\n",
      "Epoch [56/100], Train Loss: 2.6543\n",
      "Epoch [57/100], Train Loss: 2.6543\n",
      "Epoch [58/100], Train Loss: 2.6542\n",
      "Epoch [59/100], Train Loss: 2.6542\n",
      "Epoch [60/100], Train Loss: 2.6542\n",
      "Epoch [61/100], Train Loss: 2.6542\n",
      "Epoch [62/100], Train Loss: 2.6542\n",
      "Epoch [63/100], Train Loss: 2.6542\n",
      "Epoch [64/100], Train Loss: 2.6541\n",
      "Epoch [65/100], Train Loss: 2.6541\n",
      "Epoch [66/100], Train Loss: 2.6541\n",
      "Epoch [67/100], Train Loss: 2.6541\n",
      "Epoch [68/100], Train Loss: 2.6541\n",
      "Epoch [69/100], Train Loss: 2.6541\n",
      "Epoch [70/100], Train Loss: 2.6541\n",
      "Epoch [71/100], Train Loss: 2.6541\n",
      "Epoch [72/100], Train Loss: 2.6541\n",
      "Epoch [73/100], Train Loss: 2.6541\n",
      "Epoch [74/100], Train Loss: 2.6541\n",
      "Epoch [75/100], Train Loss: 2.6541\n",
      "Epoch [76/100], Train Loss: 2.6540\n",
      "Epoch [77/100], Train Loss: 2.6540\n",
      "Epoch [78/100], Train Loss: 2.6540\n",
      "Epoch [79/100], Train Loss: 2.6540\n",
      "Epoch [80/100], Train Loss: 2.6540\n",
      "Epoch [81/100], Train Loss: 2.6540\n",
      "Epoch [82/100], Train Loss: 2.6540\n",
      "Epoch [83/100], Train Loss: 2.6540\n",
      "Epoch [84/100], Train Loss: 2.6540\n",
      "Epoch [85/100], Train Loss: 2.6540\n",
      "Epoch [86/100], Train Loss: 2.6540\n",
      "Epoch [87/100], Train Loss: 2.6540\n",
      "Epoch [88/100], Train Loss: 2.6540\n",
      "Epoch [89/100], Train Loss: 2.6540\n",
      "Epoch [90/100], Train Loss: 2.6540\n",
      "Epoch [91/100], Train Loss: 2.6540\n",
      "Epoch [92/100], Train Loss: 2.6540\n",
      "Epoch [93/100], Train Loss: 2.6540\n",
      "Epoch [94/100], Train Loss: 2.6540\n",
      "Epoch [95/100], Train Loss: 2.6540\n",
      "Epoch [96/100], Train Loss: 2.6540\n",
      "Epoch [97/100], Train Loss: 2.6540\n",
      "Epoch [98/100], Train Loss: 2.6540\n",
      "Epoch [99/100], Train Loss: 2.6540\n",
      "Epoch [100/100], Train Loss: 2.6540\n"
     ]
    }
   ],
   "source": [
    "train_losses = AD.train_auto_decoder(auto_decoder, train_dl, optimizer, train_latents, device, epochs=100)"
   ]
  },
  {
   "cell_type": "code",
   "execution_count": 12,
   "metadata": {},
   "outputs": [
    {
     "data": {
      "image/png": "[encoded data removed]",
      "text/plain": [
       "<Figure size 1000x500 with 1 Axes>"
      ]
     },
     "metadata": {},
     "output_type": "display_data"
    }
   ],
   "source": [
    "AD.plot_learning_curve(train_losses)"
   ]
  },
  {
   "cell_type": "code",
   "execution_count": null,
   "metadata": {},
   "outputs": [],
   "source": [
    "AD.visualize_reconstructions(auto_decoder, train_dl, train_latents, device)"
   ]
  },
  {
   "cell_type": "code",
   "execution_count": null,
   "metadata": {},
   "outputs": [],
   "source": [
    "AD.visualize_reconstructions(auto_decoder, test_dl, test_latents, device)"
   ]
  },
  {
   "cell_type": "code",
   "execution_count": null,
   "metadata": {},
   "outputs": [],
   "source": [
    "plot_tsne(test_ds, test_latents, \"test_tsne.png\", plot_title=\"t-SNE Plot\")\n"
   ]
  }
 ],
 "metadata": {
  "kernelspec": {
   "display_name": "cs236781-hw",
   "language": "python",
   "name": "python3"
  },
  "language_info": {
   "codemirror_mode": {
    "name": "ipython",
    "version": 3
   },
   "file_extension": ".py",
   "mimetype": "text/x-python",
   "name": "python",
   "nbconvert_exporter": "python",
   "pygments_lexer": "ipython3",
   "version": "3.8.12"
  }
 },
 "nbformat": 4,
 "nbformat_minor": 2
}
