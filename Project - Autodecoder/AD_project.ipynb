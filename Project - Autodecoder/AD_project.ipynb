{
 "cells": [
  {
   "cell_type": "markdown",
   "metadata": {},
   "source": [
    "imports"
   ]
  },
  {
   "cell_type": "code",
   "execution_count": null,
   "metadata": {
    "vscode": {
     "languageId": "plaintext"
    }
   },
   "outputs": [],
   "source": [
    "import torch\n",
    "import torch.nn as nn\n",
    "import torch.optim as optim\n",
    "from utils import create_dataloaders\n",
    "from AutoDecoder import AutoDecoder"
   ]
  },
  {
   "cell_type": "code",
   "execution_count": null,
   "metadata": {
    "vscode": {
     "languageId": "plaintext"
    }
   },
   "outputs": [],
   "source": [
    "# Check device\n",
    "device = torch.device(\"cuda\" if torch.cuda.is_available() else \"cpu\")\n",
    "\n",
    "# Define model parameters\n",
    "latent_dim = 64  # Dimension of latent space\n",
    "output_shape = (1, 28, 28)  # Output shape for Fashion MNIST images\n",
    "\n",
    "# Initialize model\n",
    "auto_decoder = AutoDecoder(latent_dim, output_shape).to(device)\n",
    "\n",
    "# Create data loaders\n",
    "train_ds, train_dl, _, _ = create_dataloaders(batch_size=32)\n",
    "\n",
    "# Initialize latent vectors for each training sample\n",
    "latents = torch.randn(len(train_ds), latent_dim, requires_grad=True, device=device)\n",
    "\n",
    "# Initialize optimizer\n",
    "optimizer = optim.Adam(list(auto_decoder.parameters()) + [latents], lr=1e-3)\n",
    "\n",
    "# Train the AutoDecoder\n",
    "train_auto_decoder(auto_decoder, train_dl, optimizer, latents, device, epochs=10)"
   ]
  }
 ],
 "metadata": {
  "language_info": {
   "name": "python"
  }
 },
 "nbformat": 4,
 "nbformat_minor": 2
}
